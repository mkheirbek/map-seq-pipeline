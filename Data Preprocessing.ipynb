{
 "cells": [
  {
   "cell_type": "code",
   "execution_count": 1,
   "metadata": {},
   "outputs": [],
   "source": [
    "import pandas as pd\n",
    "import numpy as np\n",
    "import matplotlib as mpl\n",
    "from matplotlib import pyplot as plt\n",
    "from matplotlib.colors import LinearSegmentedColormap\n",
    "import matplotlib.gridspec as gridspec\n",
    "from matplotlib import patches\n",
    "import seaborn as sn\n",
    "from scipy.spatial.distance import pdist\n",
    "from sklearn.manifold import TSNE\n",
    "from scipy.stats import friedmanchisquare, kruskal\n",
    "from sklearn.cluster import k_means\n",
    "from sklearn.preprocessing import normalize \n",
    "#from fancyimpute import KNN\n",
    "import itertools\n",
    "#from adjustText import adjust_text\n",
    "import multiprocessing as mp\n",
    "from numpy import savetxt\n",
    "from numpy import loadtxt"
   ]
  },
  {
   "cell_type": "markdown",
   "metadata": {},
   "source": [
    "## Load in data\n"
   ]
  },
  {
   "cell_type": "code",
   "execution_count": 2,
   "metadata": {},
   "outputs": [
    {
     "name": "stdout",
     "output_type": "stream",
     "text": [
      "(242575, 91)\n",
      "CPU times: user 19.8 s, sys: 1.08 s, total: 20.9 s\n",
      "Wall time: 25.2 s\n"
     ]
    }
   ],
   "source": [
    "%%time\n",
    "#load barcodes\n",
    "barcodematrix = np.genfromtxt (r'/Users/markgergues/Box Sync/MAKheirbekLab/MAPseq/data/C2_raw.csv', delimiter=',')\n",
    "barcodematrix = np.array(barcodematrix, dtype=np.float64)\n",
    "print(barcodematrix.shape)"
   ]
  },
  {
   "cell_type": "code",
   "execution_count": 3,
   "metadata": {},
   "outputs": [
    {
     "name": "stdout",
     "output_type": "stream",
     "text": [
      "(242575, 91)\n"
     ]
    }
   ],
   "source": [
    "#so you dont have to run the slow code above ^^^^ \n",
    "rawbarcodematrix = np.array(barcodematrix, dtype=np.float64)\n",
    "print(rawbarcodematrix.shape)"
   ]
  },
  {
   "cell_type": "markdown",
   "metadata": {},
   "source": [
    "## Preprocessing"
   ]
  },
  {
   "cell_type": "markdown",
   "metadata": {},
   "source": [
    "## 1) Organize into separate animals for processing"
   ]
  },
  {
   "cell_type": "code",
   "execution_count": 4,
   "metadata": {},
   "outputs": [
    {
     "name": "stdout",
     "output_type": "stream",
     "text": [
      "(242575, 9)\n",
      "(242575, 9)\n",
      "(242575, 9)\n",
      "(242575, 9)\n",
      "(242575, 9)\n",
      "(242575, 9)\n",
      "(242575, 9)\n",
      "(242575, 9)\n",
      "(242575, 9)\n",
      "(242575, 9)\n"
     ]
    }
   ],
   "source": [
    "## Column Re-arrangement index according to sample key\n",
    "# Order as follows: PFC, NAc,LS, DLS, BNST, LH, BA, CeA, vCA1\n",
    "i1 = [0,1,2,3,4,5,6,7,80]\n",
    "i2 = [8,9,10,11,12,13,14,15,81]\n",
    "i3 = [16,17,18,19,20,21,22,23,82]\n",
    "i4 = [24,25,26,27,28,29,30,31,83]\n",
    "i5 = [32,33,34,35,36,37,38,39,84]\n",
    "i6 = [40,41,42,43,44,45,46,47,85]\n",
    "i7 = [48,49,50,51,52,53,54,55,86]\n",
    "i8 = [56,57,58,59,60,61,62,63,87]\n",
    "i9 = [64,65,66,67,68,69,70,71,88]\n",
    "i10 = [72,73,74,75,76,77,78,79,89]\n",
    "\n",
    "##generates each barcodematrix for each animal with array conversion to \n",
    "##ensure new arrays generated in float.\n",
    "a1 = np.array(rawbarcodematrix[:,i1], dtype=np.float64)\n",
    "a2 = np.array(rawbarcodematrix[:,i2], dtype=np.float64)\n",
    "a3 = np.array(rawbarcodematrix[:,i3], dtype=np.float64)\n",
    "a4 = np.array(rawbarcodematrix[:,i4], dtype=np.float64)\n",
    "a5 = np.array(rawbarcodematrix[:,i5], dtype=np.float64)\n",
    "a6 = np.array(rawbarcodematrix[:,i6], dtype=np.float64)\n",
    "a7 = np.array(rawbarcodematrix[:,i7], dtype=np.float64)\n",
    "a8 = np.array(rawbarcodematrix[:,i8], dtype=np.float64)\n",
    "a9 = np.array(rawbarcodematrix[:,i9], dtype=np.float64)\n",
    "a10 = np.array(rawbarcodematrix[:,i10], dtype=np.float64)\n",
    "\n",
    "print(a1.shape)\n",
    "print(a2.shape)\n",
    "print(a3.shape)\n",
    "print(a4.shape)\n",
    "print(a5.shape)\n",
    "print(a6.shape)\n",
    "print(a7.shape)\n",
    "print(a8.shape)\n",
    "print(a9.shape)\n",
    "print(a10.shape)"
   ]
  },
  {
   "cell_type": "markdown",
   "metadata": {},
   "source": [
    "## 2) Cleaning "
   ]
  },
  {
   "cell_type": "code",
   "execution_count": 5,
   "metadata": {},
   "outputs": [
    {
     "name": "stdout",
     "output_type": "stream",
     "text": [
      "Animal 1 (47, 9)\n",
      "Animal 2 (1023, 9)\n",
      "Animal 3 (4150, 9)\n",
      "Animal 4 (3104, 9)\n",
      "Animal 5 (626, 9)\n",
      "Animal 6 (1640, 9)\n",
      "Animal 7 (3153, 9)\n",
      "Animal 8 (3301, 9)\n",
      "Animal 9 (3210, 9)\n",
      "Animal 10 (3148, 9)\n",
      "19252\n"
     ]
    }
   ],
   "source": [
    "#remove empty barcoded cells\n",
    "def clean_up_zeros():\n",
    "    global a1,a2,a3,a4,a5,a6,a7,a8,a9,a10\n",
    "    a1 = a1[np.any(a1, axis=1)]\n",
    "    a2 = a2[np.any(a2, axis=1)]\n",
    "    a3 = a3[np.any(a3, axis=1)]\n",
    "    a4 = a4[np.any(a4, axis=1)]\n",
    "    a5 = a5[np.any(a5, axis=1)]\n",
    "    a6 = a6[np.any(a6, axis=1)]\n",
    "    a7 = a7[np.any(a7, axis=1)]\n",
    "    a8 = a8[np.any(a8, axis=1)]\n",
    "    a9 = a9[np.any(a9, axis=1)]\n",
    "    a10 = a10[np.any(a10, axis=1)]\n",
    "clean_up_zeros()\n",
    "\n",
    "\n",
    "#remove all zero's among targets because they are useless\n",
    "a1 = a1[np.any(a1[:,0:8], axis=1)]\n",
    "a2 = a2[np.any(a2[:,0:8], axis=1)]\n",
    "a3 = a3[np.any(a3[:,0:8], axis=1)]\n",
    "a4 = a4[np.any(a4[:,0:8], axis=1)]\n",
    "a5 = a5[np.any(a5[:,0:8], axis=1)]\n",
    "a6 = a6[np.any(a6[:,0:8], axis=1)]\n",
    "a7 = a7[np.any(a7[:,0:8], axis=1)]\n",
    "a8 = a8[np.any(a8[:,0:8], axis=1)]\n",
    "a9 = a9[np.any(a9[:,0:8], axis=1)]\n",
    "a10 = a10[np.any(a10[:,0:8], axis=1)]\n",
    "\n",
    "\n",
    "print(\"Animal 1\", a1.shape)\n",
    "print(\"Animal 2\", a2.shape)\n",
    "print(\"Animal 3\", a3.shape)\n",
    "print(\"Animal 4\", a4.shape)\n",
    "print(\"Animal 5\", a5.shape)\n",
    "print(\"Animal 6\", a6.shape)\n",
    "print(\"Animal 7\", a7.shape)\n",
    "print(\"Animal 8\", a8.shape)\n",
    "print(\"Animal 9\", a9.shape)\n",
    "print(\"Animal 10\", a10.shape)\n",
    "\n",
    "# Total # of Cells\n",
    "print(a1.shape[0] + a2.shape[0] + a4.shape[0] + a5.shape[0] + a6.shape[0] + a7.shape[0] + a8.shape[0] + a9.shape[0] + a10.shape[0])"
   ]
  },
  {
   "cell_type": "code",
   "execution_count": 6,
   "metadata": {},
   "outputs": [
    {
     "name": "stdout",
     "output_type": "stream",
     "text": [
      "Animal 1 (0, 9)\n",
      "Animal 2 (150, 9)\n",
      "Animal 3 (2272, 9)\n",
      "Animal 4 (237, 9)\n",
      "Animal 5 (23, 9)\n",
      "Animal 6 (652, 9)\n",
      "Animal 7 (1756, 9)\n",
      "Animal 8 (1090, 9)\n",
      "Animal 9 (30, 9)\n",
      "Animal 10 (1869, 9)\n",
      "5807\n"
     ]
    }
   ],
   "source": [
    "#remove barcodes with no source count in vCA1\n",
    "rorph1 = (a1[:,8]) < 1\n",
    "a1 = a1[~rorph1, :]\n",
    "rorph2 = (a2[:,8]) < 1\n",
    "a2 = a2[~rorph2, :]\n",
    "rorph3 = (a3[:,8]) < 1\n",
    "a3 = a3[~rorph3, :]\n",
    "rorph4 = (a4[:,8]) < 1\n",
    "a4 = a4[~rorph4, :]\n",
    "rorph5 = (a5[:,8]) < 1\n",
    "a5 = a5[~rorph5, :]\n",
    "rorph6 = (a6[:,8]) < 1\n",
    "a6 = a6[~rorph6, :]\n",
    "rorph7 = (a7[:,8]) < 1\n",
    "a7 = a7[~rorph7, :]\n",
    "rorph8 = (a8[:,8]) < 1\n",
    "a8 = a8[~rorph8, :]\n",
    "rorph9 = (a9[:,8]) < 1\n",
    "a9 = a9[~rorph9, :]\n",
    "rorph10 = (a10[:,8]) < 1\n",
    "a10 = a10[~rorph10, :]\n",
    "\n",
    "\n",
    "print(\"Animal 1\", a1.shape)\n",
    "print(\"Animal 2\", a2.shape)\n",
    "print(\"Animal 3\", a3.shape)\n",
    "print(\"Animal 4\", a4.shape)\n",
    "print(\"Animal 5\", a5.shape)\n",
    "print(\"Animal 6\", a6.shape)\n",
    "print(\"Animal 7\", a7.shape)\n",
    "print(\"Animal 8\", a8.shape)\n",
    "print(\"Animal 9\", a9.shape)\n",
    "print(\"Animal 10\", a10.shape)\n",
    "\n",
    "# Total # of Cells\n",
    "print(a1.shape[0] + a2.shape[0] + a4.shape[0] + a5.shape[0] + a6.shape[0] + a7.shape[0] + a8.shape[0] + a9.shape[0] + a10.shape[0])"
   ]
  },
  {
   "cell_type": "code",
   "execution_count": 7,
   "metadata": {},
   "outputs": [
    {
     "name": "stdout",
     "output_type": "stream",
     "text": [
      "Animal 1 (0, 9)\n",
      "Animal 2 (149, 9)\n",
      "Animal 3 (2259, 9)\n",
      "Animal 4 (235, 9)\n",
      "Animal 5 (22, 9)\n",
      "Animal 6 (649, 9)\n",
      "Animal 7 (1748, 9)\n",
      "Animal 8 (1082, 9)\n",
      "Animal 9 (30, 9)\n",
      "Animal 10 (1865, 9)\n",
      "5780\n"
     ]
    }
   ],
   "source": [
    "#Removes any barcodes with a count in negative target area (e.g. DLS)\n",
    "d1 = a1[:,3] > 0\n",
    "a1 = a1[~d1]\n",
    "d2 = a2[:,3] > 0\n",
    "a2 = a2[~d2]\n",
    "d3 = a3[:,3] > 0\n",
    "a3 = a3[~d3]\n",
    "d4 = a4[:,3] > 0\n",
    "a4 = a4[~d4]\n",
    "d5 = a5[:,3] > 0\n",
    "a5 = a5[~d5]\n",
    "d6 = a6[:,3] > 0\n",
    "a6 = a6[~d6]\n",
    "d7 = a7[:,3] > 0\n",
    "a7 = a7[~d7]\n",
    "d8 = a8[:,3] > 0\n",
    "a8 = a8[~d8]\n",
    "d9 = a9[:,3] > 0\n",
    "a9 = a9[~d9]\n",
    "d10 = a10[:,3] > 0\n",
    "a10 = a10[~d10]\n",
    "\n",
    "\n",
    "print(\"Animal 1\", a1.shape)\n",
    "print(\"Animal 2\", a2.shape)\n",
    "print(\"Animal 3\", a3.shape)\n",
    "print(\"Animal 4\", a4.shape)\n",
    "print(\"Animal 5\", a5.shape)\n",
    "print(\"Animal 6\", a6.shape)\n",
    "print(\"Animal 7\", a7.shape)\n",
    "print(\"Animal 8\", a8.shape)\n",
    "print(\"Animal 9\", a9.shape)\n",
    "print(\"Animal 10\", a10.shape)\n",
    "\n",
    "# Total # of Cells\n",
    "print(a1.shape[0] + a2.shape[0] + a4.shape[0] + a5.shape[0] + a6.shape[0] + a7.shape[0] + a8.shape[0] + a9.shape[0] + a10.shape[0])"
   ]
  },
  {
   "cell_type": "markdown",
   "metadata": {},
   "source": [
    "## Filter Thresholds"
   ]
  },
  {
   "cell_type": "code",
   "execution_count": 8,
   "metadata": {},
   "outputs": [
    {
     "name": "stdout",
     "output_type": "stream",
     "text": [
      "Animal 1 (0, 9)\n",
      "Animal 2 (45, 9)\n",
      "Animal 3 (649, 9)\n",
      "Animal 4 (3, 9)\n",
      "Animal 5 (2, 9)\n",
      "Animal 6 (67, 9)\n",
      "Animal 7 (941, 9)\n",
      "Animal 8 (547, 9)\n",
      "Animal 9 (4, 9)\n",
      "Animal 10 (411, 9)\n",
      "2020\n"
     ]
    }
   ],
   "source": [
    "##Threshold filtering for magnitude \n",
    "mag = 1/10\n",
    "\n",
    "filter1 = (np.amax(a1[:,0:8], axis = 1)/a1[:,8]) > mag\n",
    "ca1 = a1[~filter1]\n",
    "filter2 = (np.amax(a2[:,0:8], axis = 1)/a2[:,8]) > mag\n",
    "ca2 = a2[~filter2]\n",
    "filter3 = (np.amax(a3[:,0:8], axis = 1)/a3[:,8]) > mag\n",
    "ca3 = a3[~filter3]\n",
    "filter4 = (np.amax(a4[:,0:8], axis = 1)/a4[:,8]) > mag\n",
    "ca4 = a4[~filter4]\n",
    "filter5 = (np.amax(a5[:,0:8], axis = 1)/a5[:,8]) > mag\n",
    "ca5 = a5[~filter5]\n",
    "filter6 = (np.amax(a6[:,0:8], axis = 1)/a6[:,8]) > mag\n",
    "ca6 = a6[~filter6]\n",
    "filter7 = (np.amax(a7[:,0:8], axis = 1)/a7[:,8]) > mag\n",
    "ca7 = a7[~filter7]\n",
    "filter8 = (np.amax(a8[:,0:8], axis = 1)/a8[:,8]) > mag\n",
    "ca8 = a8[~filter8]\n",
    "filter9 = (np.amax(a9[:,0:8], axis = 1)/a9[:,8]) > mag\n",
    "ca9 = a9[~filter9]\n",
    "filter10 = (np.amax(a10[:,0:8], axis = 1)/a10[:,8]) > mag\n",
    "ca10 = a10[~filter10]\n",
    "\n",
    "\n",
    "\n",
    "print(\"Animal 1\", ca1.shape)\n",
    "print(\"Animal 2\", ca2.shape)\n",
    "print(\"Animal 3\", ca3.shape)\n",
    "print(\"Animal 4\", ca4.shape)\n",
    "print(\"Animal 5\", ca5.shape)\n",
    "print(\"Animal 6\", ca6.shape)\n",
    "print(\"Animal 7\", ca7.shape)\n",
    "print(\"Animal 8\", ca8.shape)\n",
    "print(\"Animal 9\", ca9.shape)\n",
    "print(\"Animal 10\", ca10.shape)\n",
    "\n",
    "\n",
    "# Total # of Cells\n",
    "print(ca1.shape[0] + ca2.shape[0] + ca4.shape[0] + ca5.shape[0] + ca6.shape[0] + ca7.shape[0] + ca8.shape[0] + ca9.shape[0] + ca10.shape[0])"
   ]
  },
  {
   "cell_type": "code",
   "execution_count": 9,
   "metadata": {},
   "outputs": [
    {
     "name": "stdout",
     "output_type": "stream",
     "text": [
      "Animal 1 (0, 9)\n",
      "Animal 2 (45, 9)\n",
      "Animal 3 (649, 9)\n",
      "Animal 4 (3, 9)\n",
      "Animal 5 (2, 9)\n",
      "Animal 6 (67, 9)\n",
      "Animal 7 (941, 9)\n",
      "Animal 8 (547, 9)\n",
      "Animal 9 (4, 9)\n",
      "Animal 10 (411, 9)\n",
      "2020\n"
     ]
    }
   ],
   "source": [
    "##Threshold filtering for mininum # of counts in targets\n",
    "minim2 = 1\n",
    "\n",
    "filter01 = np.amax(ca1[:,0:8], axis = 1) < minim2\n",
    "caa1 = ca1[~filter01]\n",
    "filter02 = np.amax(ca2[:,0:8], axis = 1) < minim2\n",
    "caa2 = ca2[~filter02]\n",
    "filter03 = np.amax(ca3[:,0:8], axis = 1) < minim2\n",
    "caa3 = ca3[~filter03]\n",
    "filter04 = np.amax(ca4[:,0:8], axis = 1) < minim2\n",
    "caa4 = ca4[~filter04]\n",
    "filter05 = np.amax(ca5[:,0:8], axis = 1) < minim2\n",
    "caa5 = ca5[~filter05]\n",
    "filter06 = np.amax(ca6[:,0:8], axis = 1) < minim2\n",
    "caa6 = ca6[~filter06]\n",
    "filter07 = np.amax(ca7[:,0:8], axis = 1) < minim2\n",
    "caa7 = ca7[~filter07]\n",
    "filter08 = np.amax(ca8[:,0:8], axis = 1) < minim2\n",
    "caa8 = ca8[~filter08]\n",
    "filter09 = np.amax(ca9[:,0:8], axis = 1) < minim2\n",
    "caa9 = ca9[~filter09]\n",
    "filter010 = np.amax(ca10[:,0:8], axis = 1) < minim2\n",
    "caa10 = ca10[~filter010]\n",
    "\n",
    "\n",
    "print(\"Animal 1\", caa1.shape)\n",
    "print(\"Animal 2\", caa2.shape)\n",
    "print(\"Animal 3\", caa3.shape)\n",
    "print(\"Animal 4\", caa4.shape)\n",
    "print(\"Animal 5\", caa5.shape)\n",
    "print(\"Animal 6\", caa6.shape)\n",
    "print(\"Animal 7\", caa7.shape)\n",
    "print(\"Animal 8\", caa8.shape)\n",
    "print(\"Animal 9\", caa9.shape)\n",
    "print(\"Animal 10\", caa10.shape)\n",
    "\n",
    "print(caa1.shape[0] + caa2.shape[0] + caa4.shape[0] + caa5.shape[0] + caa6.shape[0] + caa7.shape[0] + caa8.shape[0] + caa9.shape[0] + caa10.shape[0])"
   ]
  },
  {
   "cell_type": "markdown",
   "metadata": {},
   "source": [
    "## Load in spikein excel for normalization"
   ]
  },
  {
   "cell_type": "code",
   "execution_count": 10,
   "metadata": {},
   "outputs": [
    {
     "name": "stdout",
     "output_type": "stream",
     "text": [
      "(91, 1)\n"
     ]
    }
   ],
   "source": [
    "#load in spikein normalizations\n",
    "spikes = pd.read_csv (r'/Users/markgergues/Box Sync/MAKheirbekLab/MAPseq/data/C2_spikes.csv', delimiter=',', header=None)\n",
    "spikes = np.array(spikes, dtype=np.float64)\n",
    "print(spikes.shape)"
   ]
  },
  {
   "cell_type": "code",
   "execution_count": 11,
   "metadata": {},
   "outputs": [
    {
     "name": "stdout",
     "output_type": "stream",
     "text": [
      "Animal 1 (0, 9)\n",
      "Animal 2 (45, 9)\n",
      "Animal 3 (649, 9)\n",
      "Animal 4 (3, 9)\n",
      "Animal 5 (2, 9)\n",
      "Animal 6 (67, 9)\n",
      "Animal 7 (941, 9)\n",
      "Animal 8 (547, 9)\n",
      "Animal 9 (4, 9)\n",
      "Animal 10 (411, 9)\n",
      "2020\n"
     ]
    }
   ],
   "source": [
    "##Spikein normalization\n",
    "spikes1 = np.array(spikes[i1,:])\n",
    "spikes2 = np.array(spikes[i2,:])\n",
    "spikes3 = np.array(spikes[i3,:])\n",
    "spikes4 = np.array(spikes[i4,:])\n",
    "spikes5 = np.array(spikes[i5,:])\n",
    "spikes6 = np.array(spikes[i6,:])\n",
    "spikes7 = np.array(spikes[i7,:])\n",
    "spikes8 = np.array(spikes[i8,:])\n",
    "spikes9 = np.array(spikes[i9,:])\n",
    "spikes10 = np.array(spikes[i10,:])\n",
    "\n",
    "na1 = caa1/spikes1.T\n",
    "na2 = caa2/spikes2.T\n",
    "na3 = caa3/spikes3.T\n",
    "na4 = caa4/spikes4.T\n",
    "na5 = caa5/spikes5.T\n",
    "na6 = caa6/spikes6.T\n",
    "na7 = caa7/spikes7.T\n",
    "na8 = caa8/spikes8.T\n",
    "na9 = caa9/spikes9.T\n",
    "na10 = caa10/spikes10.T\n",
    "\n",
    "#keep floating\n",
    "f_a1 = np.array(na1, dtype=np.float64)\n",
    "f_a2 = np.array(na2, dtype=np.float64)\n",
    "f_a3 = np.array(na3, dtype=np.float64)\n",
    "f_a4 = np.array(na4, dtype=np.float64)\n",
    "f_a5 = np.array(na5, dtype=np.float64)\n",
    "f_a6 = np.array(na6, dtype=np.float64)\n",
    "f_a7 = np.array(na7, dtype=np.float64)\n",
    "f_a8 = np.array(na8, dtype=np.float64)\n",
    "f_a9 = np.array(na9, dtype=np.float64)\n",
    "f_a10 = np.array(na10, dtype=np.float64)\n",
    "\n",
    "\n",
    "clean_up_zeros()\n",
    "print(\"Animal 1\", f_a1.shape)\n",
    "print(\"Animal 2\", f_a2.shape)\n",
    "print(\"Animal 3\", f_a3.shape)\n",
    "print(\"Animal 4\", f_a4.shape)\n",
    "print(\"Animal 5\", f_a5.shape)\n",
    "print(\"Animal 6\", f_a6.shape)\n",
    "print(\"Animal 7\", f_a7.shape)\n",
    "print(\"Animal 8\", f_a8.shape)\n",
    "print(\"Animal 9\", f_a9.shape)\n",
    "print(\"Animal 10\", f_a10.shape)\n",
    "\n",
    "## Total # of Cells\n",
    "print(f_a1.shape[0] + f_a2.shape[0] + f_a4.shape[0] + f_a5.shape[0] + f_a6.shape[0] + f_a7.shape[0] + f_a8.shape[0] + f_a9.shape[0] + f_a10.shape[0])"
   ]
  },
  {
   "cell_type": "code",
   "execution_count": 12,
   "metadata": {},
   "outputs": [
    {
     "name": "stdout",
     "output_type": "stream",
     "text": [
      "1.0\n",
      "[8.]\n",
      "[0.125]\n",
      "0.125\n",
      "0.125\n"
     ]
    }
   ],
   "source": [
    "print(ca8[459,4])\n",
    "print(spikes8[4])\n",
    "print(ca8[459,4]/spikes8[4])\n",
    "print(na8[459,4])\n",
    "print(f_a8[459,4])"
   ]
  },
  {
   "cell_type": "code",
   "execution_count": 13,
   "metadata": {},
   "outputs": [
    {
     "name": "stdout",
     "output_type": "stream",
     "text": [
      "(2020, 9)\n"
     ]
    }
   ],
   "source": [
    "#bring all animals together\n",
    "matrix = np.concatenate((f_a1,f_a2, f_a4, f_a5, f_a6, f_a7, f_a8, f_a9, f_a10), axis=0)\n",
    "#keep floating\n",
    "matrix = np.array(matrix, dtype=np.float64)\n",
    "print(matrix.shape)"
   ]
  },
  {
   "cell_type": "code",
   "execution_count": 14,
   "metadata": {},
   "outputs": [
    {
     "name": "stdout",
     "output_type": "stream",
     "text": [
      "(2020, 7)\n"
     ]
    }
   ],
   "source": [
    "##Delete animals with any value in DLS\n",
    "nondlsers = np.where(matrix[:,3] == 0)\n",
    "datas = matrix[nondlsers]\n",
    "ndata = np.array(np.delete(datas, 3, 1))\n",
    "fdata = np.array(np.delete(ndata, 7, 1))\n",
    "print(fdata.shape)"
   ]
  },
  {
   "cell_type": "code",
   "execution_count": 16,
   "metadata": {},
   "outputs": [
    {
     "name": "stdout",
     "output_type": "stream",
     "text": [
      "(474, 7)\n",
      "(2020, 7)\n",
      "(2494, 7)\n"
     ]
    }
   ],
   "source": [
    "##importing and adding first cohort data\n",
    "cohort1 = loadtxt(r'/Users/markgergues/Box Sync/MAKheirbekLab/MAPseq/data/C1_fdata.csv', delimiter=',')\n",
    "print(cohort1.shape)\n",
    "print(fdata.shape)\n",
    "\n",
    "#combine with current data into new matrix\n",
    "ffdata = np.concatenate((cohort1, fdata), axis=0)\n",
    "finaldata = np.array(ffdata, dtype=np.float64)\n",
    "\n",
    "print(finaldata.shape)"
   ]
  },
  {
   "cell_type": "code",
   "execution_count": 17,
   "metadata": {},
   "outputs": [
    {
     "name": "stdout",
     "output_type": "stream",
     "text": [
      "(2494, 7)\n",
      "1.0\n"
     ]
    }
   ],
   "source": [
    "##Normalize barcodes to sum to 1 ===== nmatrix = normalize(fdata, axis=1, norm='l1')\n",
    "d1 = finaldata.copy()\n",
    "\n",
    "for row in range(len(d1)):\n",
    " rowmax = np.amax(d1[row], axis=0)\n",
    " d1[row] = d1[row]/rowmax\n",
    "\n",
    "\n",
    "print(d1.shape)\n",
    "print(np.amax(d1))"
   ]
  },
  {
   "cell_type": "code",
   "execution_count": 20,
   "metadata": {},
   "outputs": [
    {
     "name": "stdout",
     "output_type": "stream",
     "text": [
      "(2494, 7)\n",
      "           PFC       NAc   LS      BNST        LH        BA       CeA\n",
      "0     0.000000  0.000000  0.0  0.000000  1.000000  0.000000  0.000000\n",
      "1     1.000000  0.544036  0.0  0.172723  0.291750  0.128556  0.327370\n",
      "2     1.000000  0.000000  0.0  0.000000  0.000000  0.000000  0.000000\n",
      "3     0.000000  0.000000  0.0  0.000000  1.000000  0.881279  0.748062\n",
      "4     0.565574  1.000000  0.0  0.000000  0.000000  0.945205  0.000000\n",
      "...        ...       ...  ...       ...       ...       ...       ...\n",
      "2489  0.000000  0.000000  1.0  0.000000  0.000000  0.000000  0.000000\n",
      "2490  0.000000  0.000000  1.0  0.000000  0.000000  0.000000  0.000000\n",
      "2491  0.000000  0.000000  1.0  0.000000  0.056818  0.000000  0.000000\n",
      "2492  0.000000  0.000000  1.0  0.000000  0.000000  0.000000  0.000000\n",
      "2493  0.000000  0.000000  1.0  0.000000  0.000000  0.000000  0.000000\n",
      "\n",
      "[2494 rows x 7 columns]\n"
     ]
    }
   ],
   "source": [
    "##convert data into data frame\n",
    "df = pd.DataFrame(data=d1)\n",
    "df.columns = [\"PFC\", \"NAc\", \"LS\",\"BNST\", \"LH\", \"BA\", \"CeA\"]\n",
    "#save raw barcode counts post spikein normalization\n",
    "savetxt('finalmatrix.csv', d1, delimiter=',')\n",
    "savetxt('/Users/markgergues/Box Sync/MAKheirbekLab/MAPseq/data/finalmatrix.csv', d1, delimiter=',')\n",
    "print(df.shape)\n",
    "print(df)"
   ]
  },
  {
   "cell_type": "code",
   "execution_count": 19,
   "metadata": {},
   "outputs": [
    {
     "name": "stdout",
     "output_type": "stream",
     "text": [
      "1.0\n"
     ]
    }
   ],
   "source": [
    "print(np.amax(d1))"
   ]
  },
  {
   "cell_type": "markdown",
   "metadata": {},
   "source": [
    "## END OF PREPROCESSING DATA"
   ]
  },
  {
   "cell_type": "code",
   "execution_count": null,
   "metadata": {},
   "outputs": [],
   "source": []
  }
 ],
 "metadata": {
  "kernelspec": {
   "display_name": "Python 3",
   "language": "python",
   "name": "python3"
  },
  "language_info": {
   "codemirror_mode": {
    "name": "ipython",
    "version": 3
   },
   "file_extension": ".py",
   "mimetype": "text/x-python",
   "name": "python",
   "nbconvert_exporter": "python",
   "pygments_lexer": "ipython3",
   "version": "3.7.6"
  }
 },
 "nbformat": 4,
 "nbformat_minor": 2
}
