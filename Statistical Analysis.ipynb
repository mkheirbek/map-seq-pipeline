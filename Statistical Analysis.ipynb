{
 "cells": [
  {
   "cell_type": "code",
   "execution_count": 2,
   "metadata": {},
   "outputs": [],
   "source": [
    "import sympy\n",
    "from sympy import symbol,symbols, Product, Sum, Array, N\n",
    "from sympy import expr\n",
    "from scipy.stats import binom_test\n",
    "import numpy as np\n",
    "import pandas as pd"
   ]
  },
  {
   "cell_type": "markdown",
   "metadata": {},
   "source": [
    "### 7 regions\n",
    "\n",
    "```python\n",
    "PFC      229  \n",
    "NAc      316  \n",
    "LS      1734  \n",
    "BNST     424  \n",
    "LH       300  \n",
    "BA       171  \n",
    "CeA       46  \n",
    "\n",
    "229+316+1734+424+300+171+46 = 3220 total projections\n",
    "Obs cells: 2494\n",
    "```"
   ]
  },
  {
   "cell_type": "code",
   "execution_count": 9,
   "metadata": {},
   "outputs": [],
   "source": [
    "N0,k = symbols('N_0,k')"
   ]
  },
  {
   "cell_type": "code",
   "execution_count": 10,
   "metadata": {},
   "outputs": [],
   "source": [
    "s = Array([229,316,1734,424,300,171,46])"
   ]
  },
  {
   "cell_type": "markdown",
   "metadata": {},
   "source": [
    "Need to find the total number of cells included unobserved cells that did not project to any of the 7 sampled brain regions, which we denote $N0$. We can compute this by solving a polynomial based on a binomial distribution of projections. We used the observed frequencies of projections to each brain region to define projection probabilities to each region."
   ]
  },
  {
   "cell_type": "code",
   "execution_count": 11,
   "metadata": {},
   "outputs": [
    {
     "data": {
      "text/plain": [
       "[45.9769119422404,\n",
       " 4211.84735324631,\n",
       " 122.696457058644 - 41.6797347313107*I,\n",
       " 122.696457058644 + 41.6797347313107*I,\n",
       " 127.252980595015 - 192.326443046457*I,\n",
       " 127.252980595015 + 192.326443046457*I]"
      ]
     },
     "execution_count": 11,
     "metadata": {},
     "output_type": "execute_result"
    }
   ],
   "source": [
    "m = 6\n",
    "pi = (1 - Product((1 - (s[k]/N0)),(k, 0, m)).doit())\n",
    "soln = sympy.solve(pi * N0 - 2494)\n",
    "roots = [N(x) for x in soln]\n",
    "roots"
   ]
  },
  {
   "cell_type": "markdown",
   "metadata": {},
   "source": [
    "Since $N_0$ is a count, the complex solutions are invalid, and the solution of 45.97... is invalid since it is lower than the observed number of cells. That leaves the true solution of 4211 as the number of total cells."
   ]
  },
  {
   "cell_type": "code",
   "execution_count": 12,
   "metadata": {},
   "outputs": [
    {
     "data": {
      "text/latex": [
       "$\\displaystyle 1 - \\frac{\\left(N_{0} - 1734\\right) \\left(N_{0} - 424\\right) \\left(N_{0} - 316\\right) \\left(N_{0} - 300\\right) \\left(N_{0} - 229\\right) \\left(N_{0} - 171\\right) \\left(N_{0} - 46\\right)}{N_{0}^{7}}$"
      ],
      "text/plain": [
       "1 - (N_0 - 1734)*(N_0 - 424)*(N_0 - 316)*(N_0 - 300)*(N_0 - 229)*(N_0 - 171)*(N_0 - 46)/N_0**7"
      ]
     },
     "execution_count": 12,
     "metadata": {},
     "output_type": "execute_result"
    }
   ],
   "source": [
    "sympy.simplify((1 - Product((1 - (s[k]/N0)),(k, 0, m)))).doit()"
   ]
  },
  {
   "cell_type": "markdown",
   "metadata": {},
   "source": [
    "No we can compute the probabilities of (independently) projecting to each region based on the empirical data. We do not use these probabilities, however, when constructing our null model."
   ]
  },
  {
   "cell_type": "code",
   "execution_count": 14,
   "metadata": {},
   "outputs": [
    {
     "data": {
      "text/plain": [
       "[0.0543684710351377,\n",
       " 0.07502374169040836,\n",
       " 0.4116809116809117,\n",
       " 0.100664767331434,\n",
       " 0.07122507122507123,\n",
       " 0.0405982905982906,\n",
       " 0.010921177587844255]"
      ]
     },
     "execution_count": 14,
     "metadata": {},
     "output_type": "execute_result"
    }
   ],
   "source": [
    "ps = [(x/4212.0) for x in np.array([229,316,1734,424,300,171,46])]\n",
    "ps"
   ]
  },
  {
   "cell_type": "code",
   "execution_count": 15,
   "metadata": {},
   "outputs": [],
   "source": [
    "psdict = {\n",
    "'PFC' : 0.0543684710351377,\n",
    "'NAc' : 0.07502374169040836,\n",
    "'LS'  : 0.4116809116809117,\n",
    "'BNST' : 0.100664767331434,  \n",
    "'LH' : 0.07122507122507123,  \n",
    "'BA' : 0.0405982905982906,  \n",
    "'CeA' : 0.010921177587844255  \n",
    "}"
   ]
  },
  {
   "cell_type": "markdown",
   "metadata": {},
   "source": [
    "We want our null model to assume conditional independence and no region preference, however, we do want the random graph model to have the same edge density as our empirical data. Using this assumption, we can solve another polynomial equation to find $p_e$, the probability of edge formation for our random graph null model. "
   ]
  },
  {
   "cell_type": "code",
   "execution_count": 20,
   "metadata": {},
   "outputs": [],
   "source": [
    "pe = symbols('p_e')"
   ]
  },
  {
   "cell_type": "code",
   "execution_count": 22,
   "metadata": {},
   "outputs": [
    {
     "data": {
      "text/plain": [
       "[0.120250862788741,\n",
       " 0.45148538475476 - 0.687815572145849*I,\n",
       " 0.45148538475476 + 0.687815572145849*I,\n",
       " 1.19576259965951 - 0.857691989585134*I,\n",
       " 1.19576259965951 + 0.857691989585134*I,\n",
       " 1.79262658419136 - 0.381708845138667*I,\n",
       " 1.79262658419136 + 0.381708845138667*I]"
      ]
     },
     "execution_count": 22,
     "metadata": {},
     "output_type": "execute_result"
    }
   ],
   "source": [
    "sympy.solve((1-(1-pe)**7) * 4211.84735324631 - 2494,[pe],force=True)"
   ]
  },
  {
   "cell_type": "markdown",
   "metadata": {},
   "source": [
    "The only real solution to the polynomial is 0.120250862788741, thus this is our $p_e$. Uing this as our $p_e$ , we can compute the expected number of neurons with at least 1 projection and confirm that it equals our empirical value."
   ]
  },
  {
   "cell_type": "code",
   "execution_count": 25,
   "metadata": {},
   "outputs": [
    {
     "data": {
      "text/plain": [
       "2494.0000002810016"
      ]
     },
     "execution_count": 25,
     "metadata": {},
     "output_type": "execute_result"
    }
   ],
   "source": [
    "pe_num = 0.120287583118229\n",
    "(1-(1-pe_num)**7) * 4211"
   ]
  },
  {
   "cell_type": "markdown",
   "metadata": {},
   "source": [
    "We can also compute the probability of every motif type. For example, the following is the probability of a double projector."
   ]
  },
  {
   "cell_type": "code",
   "execution_count": 27,
   "metadata": {},
   "outputs": [
    {
     "data": {
      "text/plain": [
       "0.007623338558498366"
      ]
     },
     "execution_count": 27,
     "metadata": {},
     "output_type": "execute_result"
    }
   ],
   "source": [
    "(pe_num)**2 * (1-pe_num)**5"
   ]
  },
  {
   "cell_type": "markdown",
   "metadata": {},
   "source": [
    "And we can compute the expected number of this type of motif."
   ]
  },
  {
   "cell_type": "code",
   "execution_count": 28,
   "metadata": {},
   "outputs": [
    {
     "data": {
      "text/plain": [
       "32.101878669836616"
      ]
     },
     "execution_count": 28,
     "metadata": {},
     "output_type": "execute_result"
    }
   ],
   "source": [
    "0.007623338558498366 * 4211"
   ]
  },
  {
   "cell_type": "markdown",
   "metadata": {},
   "source": [
    "We can also compute the variance and standard deviation of each motif, since the variance of the binomial distribution is $Var = np(1-p)$ and $SD = \\sqrt{np(1-p)}$."
   ]
  },
  {
   "cell_type": "code",
   "execution_count": 29,
   "metadata": {},
   "outputs": [
    {
     "data": {
      "text/plain": [
       "5.644214310280272"
      ]
     },
     "execution_count": 29,
     "metadata": {},
     "output_type": "execute_result"
    }
   ],
   "source": [
    "np.sqrt(0.007623338558498366 * 4211 * (1-0.007623338558498366))"
   ]
  },
  {
   "cell_type": "markdown",
   "metadata": {},
   "source": [
    "Finally, we can compute the one or two-sided p-value for a particular motif using the binomial test."
   ]
  },
  {
   "cell_type": "code",
   "execution_count": 30,
   "metadata": {},
   "outputs": [
    {
     "data": {
      "text/plain": [
       "4.124134350276005e-19"
      ]
     },
     "execution_count": 30,
     "metadata": {},
     "output_type": "execute_result"
    }
   ],
   "source": [
    "binom_test(94,n=4211,p=0.007623338558498366)"
   ]
  }
 ],
 "metadata": {
  "kernelspec": {
   "display_name": "Python 3",
   "language": "python",
   "name": "python3"
  },
  "language_info": {
   "codemirror_mode": {
    "name": "ipython",
    "version": 3
   },
   "file_extension": ".py",
   "mimetype": "text/x-python",
   "name": "python",
   "nbconvert_exporter": "python",
   "pygments_lexer": "ipython3",
   "version": "3.7.4"
  }
 },
 "nbformat": 4,
 "nbformat_minor": 4
}
